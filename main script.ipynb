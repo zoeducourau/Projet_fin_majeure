{
 "cells": [
  {
   "attachments": {},
   "cell_type": "markdown",
   "metadata": {},
   "source": [
    "# Projet de fin de majeure : Super résolution\n",
    "#### Johanna Dubos, Zoé Ducourau & Dimitri Szezurek\n",
    "---"
   ]
  },
  {
   "cell_type": "code",
   "execution_count": 160,
   "metadata": {},
   "outputs": [],
   "source": [
    "# Librairies\n",
    "import numpy as np\n",
    "import cv2\n",
    "import matplotlib.pyplot as plt\n",
    "import os\n",
    "import shutil\n",
    "import itk"
   ]
  },
  {
   "cell_type": "code",
   "execution_count": 226,
   "metadata": {},
   "outputs": [],
   "source": [
    "def decimation(input_img, ds_rate):\n",
    "    down_sampled_img = np.zeros([int(np.shape(input_img)[0]/ds_rate), int(np.shape(input_img)[1]/ds_rate)])\n",
    "    for i in range(np.shape(input_img)[0]):\n",
    "        for j in range(np.shape(input_img)[1]):\n",
    "            i_ds = int(i/ds_rate)\n",
    "            j_ds = int(j/ds_rate)\n",
    "            if i % ds_rate == 0 and j % ds_rate == 0 :\n",
    "                down_sampled_img[i_ds, j_ds] = input_img[i, j]\n",
    "        \n",
    "    return down_sampled_img\n",
    "\n",
    "def interpolation(input_img, us_rate):\n",
    "    up_sampled_img = np.zeros([np.shape(input_img)[0]*us_rate, np.shape(input_img)[1]*us_rate])\n",
    "    for i in range(np.shape(input_img)[0]):\n",
    "        for j in range(np.shape(input_img)[1]):\n",
    "            up_sampled_img[i*us_rate, j*us_rate] = input_img[i, j]\n",
    "        \n",
    "    return up_sampled_img"
   ]
  },
  {
   "attachments": {},
   "cell_type": "markdown",
   "metadata": {},
   "source": [
    "#### Image considérée (échelle de Monoyer)"
   ]
  },
  {
   "cell_type": "code",
   "execution_count": 214,
   "metadata": {},
   "outputs": [
    {
     "name": "stdout",
     "output_type": "stream",
     "text": [
      "Taille de l'image : Hauteur =  512 || Largeur =  512\n"
     ]
    },
    {
     "data": {
      "image/png": "[encoded data removed]",
      "text/plain": [
       "<Figure size 432x288 with 1 Axes>"
      ]
     },
     "metadata": {
      "needs_background": "light"
     },
     "output_type": "display_data"
    }
   ],
   "source": [
    "filename = 'Monoyer-square.png'\n",
    "\n",
    "IMAGE_nb = cv2.imread(filename,0)\n",
    "IMAGE_nb = cv2.pyrDown(IMAGE_nb)\n",
    "[H,W] = IMAGE_nb.shape\n",
    "\n",
    "print(\"Taille de l'image : Hauteur = \", H, \"|| Largeur = \" , W)\n",
    "\n",
    "plt.imshow(IMAGE_nb,cmap='gray')\n",
    "plt.title('Image de base')\n",
    "plt.show()"
   ]
  },
  {
   "attachments": {},
   "cell_type": "markdown",
   "metadata": {},
   "source": [
    "#### Création de la BDD avec N images (déformées, floutées, sous-échantillonées & bruitées)"
   ]
  },
  {
   "cell_type": "code",
   "execution_count": 215,
   "metadata": {},
   "outputs": [],
   "source": [
    "if os.path.exists('BDD'):\n",
    "    shutil.rmtree('BDD')\n",
    "\n",
    "os.makedirs('BDD')"
   ]
  },
  {
   "cell_type": "code",
   "execution_count": 242,
   "metadata": {},
   "outputs": [],
   "source": [
    "sampling_rate = 2\n",
    "noyau = 1/16*np.array([[1,2,1],[2,4,2],[1,2,1]])"
   ]
  },
  {
   "cell_type": "code",
   "execution_count": 243,
   "metadata": {},
   "outputs": [],
   "source": [
    "N = 10 # Nb d'images dans la BDD\n",
    "\n",
    "for i in range (0,N):\n",
    "\n",
    "    if i == 0:\n",
    "        img_blurred = cv2.filter2D(src=IMAGE_nb, ddepth=-1, kernel=noyau) # Floutage\n",
    "        img_downsampled = decimation(img_blurred, sampling_rate) # Sous-échantillonnage /4\n",
    "\n",
    "        # Ajout d'un bruit gaussien \n",
    "        gauss = np.random.normal(0,5,img_downsampled.shape)\n",
    "        gauss = gauss.reshape(img_downsampled.shape)\n",
    "        img_noisy = img_downsampled + gauss\n",
    "\n",
    "        plt.imsave(\"BDD/imageBR_0.png\",img_noisy,cmap='gray')\n",
    "\n",
    "    else:\n",
    "        t_max = 50\n",
    "        angle=np.random.randint(-10,10)\n",
    "        rotation = cv2.getRotationMatrix2D((W/2,H/2), angle, 1) # Matrice de rotation\n",
    "        translation =[np.random.uniform(-t_max,t_max), np.random.uniform(-t_max,t_max)]\n",
    "        rigid = rotation\n",
    "        rigid[0,2] += translation[0]\n",
    "        rigid[1,2] += translation[1]\n",
    "        img_transformed = cv2.warpAffine(IMAGE_nb, rigid, (W,H), borderMode=cv2.BORDER_REPLICATE) # Rotation + translation\n",
    "        img_blurred = cv2.filter2D(src=img_transformed, ddepth=-1, kernel=noyau) # Floutage \n",
    "        img_downsampled = decimation(img_blurred, sampling_rate) # Sous-échantillonnage /4\n",
    "\n",
    "        # Ajout d'un bruit gaussien \n",
    "        gauss = np.random.normal(0,5,img_downsampled.shape)\n",
    "        gauss = gauss.reshape(img_downsampled.shape)\n",
    "        img_noisy = img_downsampled + gauss\n",
    "\n",
    "        plt.imsave(\"BDD/imageBR_\"+str(i)+\".png\",img_noisy,cmap='gray')\n",
    "        \n",
    "[H_LR, W_LR] = img_noisy.shape"
   ]
  },
  {
   "attachments": {},
   "cell_type": "markdown",
   "metadata": {},
   "source": [
    "#### Différentes étapes :\n",
    "- Recalage/estimation du mouvement des images BR\n",
    "- Estimation du flou des images BR\n",
    "- Sélection d'un a priori convenable\n",
    "- Estimation d'une image HR\n"
   ]
  },
  {
   "attachments": {},
   "cell_type": "markdown",
   "metadata": {},
   "source": [
    "## Recalage des images de la BDD"
   ]
  },
  {
   "cell_type": "code",
   "execution_count": 244,
   "metadata": {},
   "outputs": [],
   "source": [
    "def get_transformation(fixed_img, moving_img):\n",
    "\n",
    "\n",
    "    orb = cv2.ORB_create()\n",
    "    kp1, des1 = orb.detectAndCompute(moving_img, None)\n",
    "    kp2, des2 = orb.detectAndCompute(fixed_img, None)\n",
    "\n",
    "    # Affichage des points d'intérêt\n",
    "    # base_keypoints = cv2.drawKeypoints(fixed_img, kp2, color=(0, 0, 255), flags=0, outImage=fixed_img)\n",
    "    # test_keypoints = cv2.drawKeypoints(moving_img, kp1, color=(0, 0, 255), flags=0, outImage=moving_img)\n",
    "\n",
    "    # Création de l'objet BFMatcher et recherche des correspondances\n",
    "    bf = cv2.BFMatcher(cv2.NORM_HAMMING, crossCheck=True)\n",
    "    matches = bf.match(des1, des2)\n",
    "\n",
    "    # Tri des correspondances selon leur distance\n",
    "    matches = sorted(matches, key=lambda x: x.distance)\n",
    "\n",
    "    # Extraction des meilleures correspondances\n",
    "    num_matches = 1000\n",
    "    src_pts = np.float32([kp1[m.queryIdx].pt for m in matches[:num_matches]]).reshape(-1, 1, 2)\n",
    "    dst_pts = np.float32([kp2[m.trainIdx].pt for m in matches[:num_matches]]).reshape(-1, 1, 2)\n",
    "\n",
    "    # Calcul de l'homographie et recale de l'image 1 sur l'image 2\n",
    "    M, mask = cv2.findHomography(src_pts, dst_pts, cv2.RANSAC, 5.0)\n",
    "    \n",
    "    return M\n",
    "\n",
    "\n"
   ]
  },
  {
   "cell_type": "code",
   "execution_count": 245,
   "metadata": {},
   "outputs": [
    {
     "name": "stdout",
     "output_type": "stream",
     "text": [
      "BDD/imageBR_1.png\n",
      "CenteredRigid2DTransform (0x1c7dbba0)\n",
      "  RTTI typeinfo:   itk::CenteredRigid2DTransform<double>\n",
      "  Reference Count: 5\n",
      "  Modified Time: 32109\n",
      "  Debug: Off\n",
      "  Object Name: \n",
      "  Observers: \n",
      "    none\n",
      "  Matrix: \n",
      "    0.999998 0.00184675 \n",
      "    -0.00184675 0.999998 \n",
      "  Offset: [-0.237786, 0.285443]\n",
      "  Center: [128, 128]\n",
      "  Translation: [-0.00162042, 0.048841]\n",
      "  Inverse: \n",
      "    0.999998 -0.00184675 \n",
      "    0.00184675 0.999998 \n",
      "  Singular: 0\n",
      "  Angle       = -0.00184675\n",
      "\n",
      "BDD/imageBR_2.png\n",
      "CenteredRigid2DTransform (0x1c217f20)\n",
      "  RTTI typeinfo:   itk::CenteredRigid2DTransform<double>\n",
      "  Reference Count: 5\n",
      "  Modified Time: 54544\n",
      "  Debug: Off\n",
      "  Object Name: \n",
      "  Observers: \n",
      "    none\n",
      "  Matrix: \n",
      "    0.983546 -0.180656 \n",
      "    0.180656 0.983546 \n",
      "  Offset: [28.1313, -19.6737]\n",
      "  Center: [127.843, 128.466]\n",
      "  Translation: [2.81969, 1.30812]\n",
      "  Inverse: \n",
      "    0.983546 0.180656 \n",
      "    -0.180656 0.983546 \n",
      "  Singular: 0\n",
      "  Angle       = 0.181654\n",
      "\n",
      "BDD/imageBR_3.png\n",
      "CenteredRigid2DTransform (0x1e8c7420)\n",
      "  RTTI typeinfo:   itk::CenteredRigid2DTransform<double>\n",
      "  Reference Count: 5\n",
      "  Modified Time: 56829\n",
      "  Debug: Off\n",
      "  Object Name: \n",
      "  Observers: \n",
      "    none\n",
      "  Matrix: \n",
      "    0.99999 0.00449218 \n",
      "    -0.00449218 0.99999 \n",
      "  Offset: [-0.675339, 0.85158]\n",
      "  Center: [128, 128]\n",
      "  Translation: [-0.101631, 0.275289]\n",
      "  Inverse: \n",
      "    0.99999 -0.00449218 \n",
      "    0.00449218 0.99999 \n",
      "  Singular: 0\n",
      "  Angle       = -0.0044922\n",
      "\n",
      "BDD/imageBR_4.png\n",
      "CenteredRigid2DTransform (0xc0b0310)\n",
      "  RTTI typeinfo:   itk::CenteredRigid2DTransform<double>\n",
      "  Reference Count: 5\n",
      "  Modified Time: 57229\n",
      "  Debug: Off\n",
      "  Object Name: \n",
      "  Observers: \n",
      "    none\n",
      "  Matrix: \n",
      "    0.99999 0.00453155 \n",
      "    -0.00453155 0.99999 \n",
      "  Offset: [-0.569931, 0.57989]\n",
      "  Center: [128, 128]\n",
      "  Translation: [0.00879343, -0.00146302]\n",
      "  Inverse: \n",
      "    0.99999 -0.00453155 \n",
      "    0.00453155 0.99999 \n",
      "  Singular: 0\n",
      "  Angle       = -0.00453157\n",
      "\n"
     ]
    }
   ],
   "source": [
    "N_registration = 4 # Nombre d'images à recaler (inferieur strictement à N)\n",
    "\n",
    "list_M = [] # Liste des matrices de transformation\n",
    "\n",
    "fixed_img_itk = itk.imread('BDD/imageBR_0.png', itk.UC)\n",
    "\n",
    "optimizer = itk.RegularStepGradientDescentOptimizer.New() # Instance de la classe d'optimiseur choisie\n",
    "optimizer.SetMaximumStepLength(0.01) # Borne supérieure du pas de descente (en pixel)\n",
    "optimizer.SetMinimumStepLength(0.01) # Borne inférieure du pas de descente (en pixel)\n",
    "optimizer.SetNumberOfIterations(5000) # Nombre maximal d'itération\n",
    "scales= [180/np.pi,0.5,0.5,0.5,0.5]\n",
    "optimizer.SetScales(scales) # Nombre maximal d'itération\n",
    " \n",
    "f=[]\n",
    "def getMetricValue():\n",
    "    f.append(optimizer.GetValue())\n",
    "\n",
    "optimizer.AddObserver(itk.IterationEvent(), getMetricValue)\n",
    "\n",
    "for i in range(1, N_registration + 1):  \n",
    "    \n",
    "    print('BDD/imageBR_' + str(i) + '.png')      \n",
    "    moving_img_itk = itk.imread('BDD/imageBR_' + str(i) + '.png', itk.UC)\n",
    "    \n",
    "    initialTransform = itk.CenteredRigid2DTransform[itk.D].New() #transformation rigide\n",
    "    initialParameters = initialTransform.GetParameters() #paramètres de la transformation\n",
    "    initialParameters[0] = 0 #angle\n",
    "    initialParameters[1] = H_LR/2 #centre de rotation\n",
    "    initialParameters[2] = W_LR/2 #centre de rotation\n",
    "    initialParameters[3] = 0 #tx\n",
    "    initialParameters[4] = 0 #ty\n",
    "    \n",
    "    interpolator = itk.LinearInterpolateImageFunction[type(moving_img_itk), itk.D].New() \n",
    "    metric = itk.MeanSquaresImageToImageMetric[type(fixed_img_itk), type(moving_img_itk)].New()\n",
    "\n",
    "    registration_filter = itk.ImageRegistrationMethod[type(fixed_img_itk), type(moving_img_itk)].New() # Instance de la classe de recalage\n",
    "    registration_filter.SetFixedImage(fixed_img_itk) # Image de référence\n",
    "    registration_filter.SetMovingImage(moving_img_itk) # Image à recaler\n",
    "    registration_filter.SetOptimizer(optimizer) # Optimiseur\n",
    "    registration_filter.SetTransform(initialTransform)  # Transformation\n",
    "    registration_filter.SetInitialTransformParameters(initialParameters) #Application de la transformation initiale\n",
    "    registration_filter.SetInterpolator(interpolator) # Interpolateur\n",
    "    registration_filter.SetMetric(metric) # Métrique\n",
    "    registration_filter.Update() # Exécution du recalage\n",
    "    transform = registration_filter.GetTransform()\n",
    "    \n",
    "       \n",
    "    print(transform)\n",
    "    \n",
    "    list_M.append(transform)"
   ]
  },
  {
   "cell_type": "code",
   "execution_count": 258,
   "metadata": {},
   "outputs": [
    {
     "name": "stdout",
     "output_type": "stream",
     "text": [
      "BDD/imageBR_1.png\n",
      "BDD/imageBR_2.png\n",
      "BDD/imageBR_3.png\n",
      "BDD/imageBR_4.png\n"
     ]
    },
    {
     "data": {
      "text/plain": [
       "(-0.5, 255.5, 255.5, -0.5)"
      ]
     },
     "execution_count": 258,
     "metadata": {},
     "output_type": "execute_result"
    },
    {
     "data": {
      "image/png": "[encoded data removed]",
      "text/plain": [
       "<Figure size 432x288 with 4 Axes>"
      ]
     },
     "metadata": {
      "needs_background": "light"
     },
     "output_type": "display_data"
    }
   ],
   "source": [
    "N_registration = 4 # Nombre d'images à recaler (inferieur strictement à N)\n",
    "\n",
    "list_M = [] # Liste\n",
    "\n",
    "fixed_img = cv2.imread('BDD/imageBR_0.png')\n",
    "for i in range(1, N_registration + 1):  \n",
    "    print('BDD/imageBR_' + str(i) + '.png')  \n",
    "    moving_img = cv2.imread('BDD/imageBR_' + str(i) + '.png')\n",
    "    list_M.append(get_transformation(fixed_img, moving_img))\n",
    "\n",
    "\n",
    "M = get_transformation(fixed_img, moving_img)\n",
    "registered_img = cv2.warpPerspective(moving_img, M, (fixed_img.shape[1], fixed_img.shape[0]))\n",
    "\n",
    "unregistered_img = cv2.warpPerspective(registered_img, M, (moving_img.shape[1], moving_img.shape[0]), flags = cv2.WARP_INVERSE_MAP)\n",
    "\n",
    "plt.subplot(141)\n",
    "plt.imshow(fixed_img, cmap='gray')\n",
    "plt.axis('off')\n",
    "\n",
    "plt.subplot(142)\n",
    "plt.imshow(moving_img, cmap='gray')\n",
    "plt.axis('off')\n",
    "\n",
    "plt.subplot(143)\n",
    "plt.imshow(registered_img, cmap='gray')\n",
    "plt.axis('off')\n",
    "\n",
    "plt.subplot(144)\n",
    "plt.imshow(unregistered_img, cmap='gray')\n",
    "plt.axis('off')"
   ]
  },
  {
   "attachments": {},
   "cell_type": "markdown",
   "metadata": {},
   "source": [
    "## Descente de gradient"
   ]
  },
  {
   "cell_type": "code",
   "execution_count": 267,
   "metadata": {},
   "outputs": [
    {
     "data": {
      "text/plain": [
       "Text(0.5, 1.0, 'Estimation de départ')"
      ]
     },
     "execution_count": 267,
     "metadata": {},
     "output_type": "execute_result"
    },
    {
     "data": {
      "image/png": "[encoded data removed]",
      "text/plain": [
       "<Figure size 432x288 with 1 Axes>"
      ]
     },
     "metadata": {
      "needs_background": "light"
     },
     "output_type": "display_data"
    }
   ],
   "source": [
    "\n",
    "# initialisation\n",
    "estim_0 = interpolation(cv2.imread('BDD/imageBR_0.png', 0), sampling_rate)\n",
    "observations = []\n",
    "for k in range(N_registration):\n",
    "    observations.append(cv2.imread('BDD/imageBR_' + str(k+1) + '.png', 0))\n",
    "    transfo = list_M[k].copy()\n",
    "    transfo[0][2] *= sampling_rate\n",
    "    transfo[1][2] *= sampling_rate\n",
    "    estim_0 += cv2.warpPerspective(interpolation(observations[k], sampling_rate), transfo, [H,W])\n",
    "    \n",
    "    \n",
    "\n",
    "\n",
    "# estim_0 = cv2.resize(observations[0], dim_HR, interpolation = cv2.INTER_CUBIC)\n",
    "# estim_0 = interpolation(observations[0], sampling_rate)\n",
    "\n",
    "plt.figure()\n",
    "plt.imshow(estim_0, cmap=\"gray\")\n",
    "plt.title('Estimation de départ')"
   ]
  },
  {
   "cell_type": "code",
   "execution_count": 273,
   "metadata": {},
   "outputs": [
    {
     "data": {
      "text/plain": [
       "Text(0.5, 1.0, 'Estimation finale')"
      ]
     },
     "execution_count": 273,
     "metadata": {},
     "output_type": "execute_result"
    },
    {
     "data": {
      "image/png": "[encoded data removed]",
      "text/plain": [
       "<Figure size 432x288 with 1 Axes>"
      ]
     },
     "metadata": {
      "needs_background": "light"
     },
     "output_type": "display_data"
    }
   ],
   "source": [
    "# paramètres\n",
    "beta = 1\n",
    "l = 0\n",
    "alpha = 0.6\n",
    "P = 1\n",
    "\n",
    "estim = estim_0\n",
    "erreur = []\n",
    "# iterations\n",
    "CA = False\n",
    "n_iter = 0\n",
    "while CA == False:\n",
    "\n",
    "    # gradient\n",
    "    gradient = np.zeros([H,W])\n",
    "    for k in range(N_registration):\n",
    "        # appliquer la transfo (rotation + translation) à l'estimation\n",
    "        transfo = list_M[k][0:2].copy()\n",
    "        transfo[0][2] *= sampling_rate\n",
    "        transfo[1][2] *= sampling_rate\n",
    "        estim_recal = cv2.warpAffine(estim, transfo, [H,W], flags=cv2.WARP_INVERSE_MAP, borderMode=cv2.BORDER_REPLICATE) # Rotation + translation\n",
    "        # convoluer PSF (flou blanc gaussien)\n",
    "        estim_recal_psf =cv2.filter2D(src=estim_recal, ddepth=-1, kernel=noyau)\n",
    "        # down sampling \n",
    "        estim_recal_psf_ds = decimation(estim_recal_psf, sampling_rate) # Sous-échantillonnage /4\n",
    "        # soustaire l'observation\n",
    "        diff = estim_recal_psf_ds - observations[k] \n",
    "        # opérateur signe \n",
    "        sign = np.sign(diff)\n",
    "        # up sampling\n",
    "        estim_us = interpolation(sign, sampling_rate)\n",
    "        # convoluer par T(PSF)\n",
    "        estim_us_psf = cv2.filter2D(src=estim_us, ddepth=-1, kernel=noyau) # le noyau est symétrique donc T(PSF)=PSF\n",
    "        # appliquer transfo inverse\n",
    "        estim_us_psf_recale = cv2.warpAffine(estim_us_psf, transfo, [H,W], borderMode=cv2.BORDER_REPLICATE) # Rotation + translation\n",
    "        # somme des gradients\n",
    "        gradient += estim_us_psf_recale\n",
    "        \n",
    "    # pas de régularisation\n",
    "    regul = 0\n",
    "    \n",
    "    \n",
    "    # régularisation Tikhonov\n",
    "    kernel_laplacien = 1/8*np.array([[1, 1, 1], [1, -8, 1], [1, 1, 1]])\n",
    "    r = cv2.filter2D(src=estim, ddepth=-1, kernel=kernel_laplacien)\n",
    "    regul = (r**2)\n",
    "    \n",
    "    \n",
    "    \"\"\"\n",
    "    # régularisation shift & add\n",
    "    regul = np.zeros(dim_HR)\n",
    "    for l in range(-P, P+1):\n",
    "        for m in range(0, P+1):\n",
    "            if l+m >= 0:\n",
    "                # appliquer shift Sx et Sy à l'estimation\n",
    "                Sxy = np.float32([[1, 0, m], [0, 1, l]])\n",
    "                img_translation = cv2.warpAffine(estim, Sxy, dim_HR, borderMode=cv2.BORDER_REPLICATE)\n",
    "                \n",
    "                # soustraire le résultat à l'estimation \n",
    "                diff = estim - img_translation\n",
    "                # appliquer opérateur signe\n",
    "                sign = np.sign(diff)\n",
    "                \n",
    "                # appliquer anti shift Sx-1 et Sy-1\n",
    "                Sxy_inv = np.float32([[1, 0, -m], [0, 1, -l]])\n",
    "                img_translation_2 = cv2.warpAffine(sign, Sxy_inv, dim_HR, borderMode=cv2.BORDER_REPLICATE)\n",
    "                # soustraire au résultat intermédiaire\n",
    "                \n",
    "                diff = (np.identity(dim_HR[0]) - img_translation_2) * sign\n",
    "                # multiplier par alpha ^{|m|+|l|}\n",
    "                r_lm = (alpha ** (abs(m)+abs(l)))*diff\n",
    "                # sommation\n",
    "                regul += r_lm\n",
    "    \"\"\"\n",
    "    \n",
    "            \n",
    "    \n",
    "    step = gradient + l*regul\n",
    "    new_estim = np.abs(estim - beta*step)\n",
    "    estim = new_estim\n",
    "    erreur.append(np.mean(np.sqrt((IMAGE_nb - new_estim)**2)))\n",
    "    \n",
    "    n_iter += 1\n",
    "    if len(erreur) > 2:\n",
    "        if erreur[-2] < erreur[-1]:\n",
    "            CA = True\n",
    "        if abs(erreur[-2] - erreur[-1]) < 0.001:\n",
    "            CA = True\n",
    "    if n_iter > 30:\n",
    "        CA = True\n",
    "    \n",
    "       \n",
    "plt.figure()\n",
    "plt.imshow(new_estim, cmap='gray')\n",
    "plt.title(\"Estimation finale\")\n",
    "    \n"
   ]
  },
  {
   "cell_type": "code",
   "execution_count": 274,
   "metadata": {},
   "outputs": [
    {
     "name": "stdout",
     "output_type": "stream",
     "text": [
      "descente de gradient : 109.08078837275482\n",
      "interpolation de départ : 120.92906814068556\n"
     ]
    },
    {
     "data": {
      "image/png": "[encoded data removed]",
      "text/plain": [
       "<Figure size 432x288 with 1 Axes>"
      ]
     },
     "metadata": {
      "needs_background": "light"
     },
     "output_type": "display_data"
    }
   ],
   "source": [
    "plt.figure()\n",
    "plt.plot(range(len(erreur)), erreur, range(len(erreur)), np.ones(len(erreur))*np.mean(np.sqrt((IMAGE_nb - estim_0)**2)))\n",
    "plt.legend(\"descente de gradient\")\n",
    "plt.legend(\"interpolation bicubique\")\n",
    "\n",
    "print(\"descente de gradient : \" + str(min(erreur)))\n",
    "print(\"interpolation de départ : \" + str(np.mean(np.sqrt((IMAGE_nb - estim_0)**2))))\n"
   ]
  },
  {
   "cell_type": "code",
   "execution_count": 262,
   "metadata": {},
   "outputs": [],
   "source": [
    "plt.imsave(\"estimationHR\" + str(N_registration) + \".png\",new_estim,cmap='gray')"
   ]
  },
  {
   "cell_type": "code",
   "execution_count": 203,
   "metadata": {},
   "outputs": [
    {
     "data": {
      "text/plain": [
       "255.0"
      ]
     },
     "execution_count": 203,
     "metadata": {},
     "output_type": "execute_result"
    }
   ],
   "source": [
    "np.max(estim_0)"
   ]
  },
  {
   "cell_type": "code",
   "execution_count": null,
   "metadata": {},
   "outputs": [],
   "source": []
  }
 ],
 "metadata": {
  "kernelspec": {
   "display_name": "cpe-imi",
   "language": "python",
   "name": "python3"
  },
  "language_info": {
   "codemirror_mode": {
    "name": "ipython",
    "version": 3
   },
   "file_extension": ".py",
   "mimetype": "text/x-python",
   "name": "python",
   "nbconvert_exporter": "python",
   "pygments_lexer": "ipython3",
   "version": "3.6.9"
  },
  "orig_nbformat": 4,
  "vscode": {
   "interpreter": {
    "hash": "2188900bcae6952e9e0703bde77d1f99a8ae57f1b2a11daa61677a79f4897c96"
   }
  }
 },
 "nbformat": 4,
 "nbformat_minor": 2
}
