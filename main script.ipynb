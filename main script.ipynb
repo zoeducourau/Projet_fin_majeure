{
 "cells": [
  {
   "attachments": {},
   "cell_type": "markdown",
   "metadata": {},
   "source": [
    "# Projet de fin de majeure : Super résolution\n",
    "Johanna Dubos, Zoé Ducourau & Dimitri Szezurek"
   ]
  },
  {
   "cell_type": "code",
   "execution_count": null,
   "metadata": {},
   "outputs": [],
   "source": [
    "# Librairies\n",
    "import numpy as np\n",
    "import cv2\n",
    "import matplotlib.pyplot as plt"
   ]
  }
 ],
 "metadata": {
  "kernelspec": {
   "display_name": "Python 3",
   "language": "python",
   "name": "python3"
  },
  "language_info": {
   "name": "python",
   "version": "3.11.0 (main, Oct 24 2022, 18:26:48) [MSC v.1933 64 bit (AMD64)]"
  },
  "orig_nbformat": 4,
  "vscode": {
   "interpreter": {
    "hash": "283a9d5af7c96132f679e9560199d0ab8c5ae9256d41e10b9d5fad451cc5e326"
   }
  }
 },
 "nbformat": 4,
 "nbformat_minor": 2
}
